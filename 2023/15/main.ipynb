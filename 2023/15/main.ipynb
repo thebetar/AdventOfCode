{
 "cells": [
  {
   "cell_type": "code",
   "execution_count": null,
   "metadata": {},
   "outputs": [
    {
     "name": "stdout",
     "output_type": "stream",
     "text": [
      "1\n"
     ]
    }
   ],
   "source": [
    "input_string = 'HASH'\n",
    "\n",
    "def get_hash_idx(input_string):\n",
    "    result = 0\n",
    "\n",
    "    for char in input_string:\n",
    "        # Convert to ascii value\n",
    "        ascii_value = ord(char)\n",
    "\n",
    "        # Add the result\n",
    "        result += ascii_value\n",
    "\n",
    "        # Multiply by 17\n",
    "        result *= 17\n",
    "\n",
    "        # Remainder of 256\n",
    "        result %= 256\n",
    "\n",
    "    return result\n",
    "\n",
    "result = get_hash_idx(input_string)\n",
    "print(result)"
   ]
  },
  {
   "cell_type": "code",
   "execution_count": 13,
   "metadata": {},
   "outputs": [
    {
     "name": "stdout",
     "output_type": "stream",
     "text": [
      "505379\n"
     ]
    }
   ],
   "source": [
    "# part 1\n",
    "with open('input.txt', 'r') as file:\n",
    "    input_list = file.read().strip()\n",
    "\n",
    "    input_list = input_list.split(',')\n",
    "\n",
    "    result = 0\n",
    "\n",
    "    for input_string in input_list:\n",
    "        result += get_hash_idx(input_string)\n",
    "\n",
    "    print(result)"
   ]
  },
  {
   "cell_type": "code",
   "execution_count": 18,
   "metadata": {},
   "outputs": [
    {
     "name": "stdout",
     "output_type": "stream",
     "text": [
      "263211\n"
     ]
    }
   ],
   "source": [
    "# part 2\n",
    "with open('input.txt', 'r') as file:\n",
    "    input_list = file.read().strip()\n",
    "\n",
    "    input_list = input_list.split(',')\n",
    "\n",
    "    boxes = []\n",
    "\n",
    "    for i in range(256):\n",
    "        boxes.append({})\n",
    "\n",
    "    for input_string in input_list:\n",
    "        if '-' in input_string:\n",
    "            label = input_string.rsplit('-', 1)[0]\n",
    "\n",
    "            for idx, box in enumerate(boxes):\n",
    "                if label in box.keys():\n",
    "                    del boxes[idx][label]\n",
    "        elif '=' in input_string:\n",
    "            label, value = input_string.split('=')\n",
    "\n",
    "            idx = get_hash_idx(label)\n",
    "\n",
    "            boxes[idx][label] = value\n",
    "\n",
    "    result = 0\n",
    "\n",
    "    for box_idx, box in enumerate(boxes):\n",
    "        label_idx = 1\n",
    "\n",
    "        for key, value in box.items():\n",
    "            result += (box_idx + 1) * label_idx * int(value) \n",
    "            label_idx += 1\n",
    "\n",
    "    print(result)\n"
   ]
  }
 ],
 "metadata": {
  "kernelspec": {
   "display_name": "Python 3",
   "language": "python",
   "name": "python3"
  },
  "language_info": {
   "codemirror_mode": {
    "name": "ipython",
    "version": 3
   },
   "file_extension": ".py",
   "mimetype": "text/x-python",
   "name": "python",
   "nbconvert_exporter": "python",
   "pygments_lexer": "ipython3",
   "version": "3.10.12"
  }
 },
 "nbformat": 4,
 "nbformat_minor": 2
}
