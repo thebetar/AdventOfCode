{
 "cells": [
  {
   "cell_type": "code",
   "execution_count": 97,
   "metadata": {},
   "outputs": [],
   "source": [
    "import itertools\n",
    "import re\n",
    "import math"
   ]
  },
  {
   "cell_type": "code",
   "execution_count": 138,
   "metadata": {},
   "outputs": [
    {
     "name": "stdout",
     "output_type": "stream",
     "text": [
      "21\n"
     ]
    }
   ],
   "source": [
    "# Testing\n",
    "with open('start.txt', 'r') as f:\n",
    "    lines = f.readlines()\n",
    "\n",
    "# Split on space\n",
    "data = [line.split() for line in lines]\n",
    "\n",
    "replacements = ['.', '#']\n",
    "\n",
    "def get_possible_values(data, values):\n",
    "    result = 0\n",
    "    \n",
    "    # Get range of amount of ?\n",
    "    question_mark_count = data.count('?')\n",
    "    \n",
    "    # Get all possible values\n",
    "    for replacement in itertools.product(replacements, repeat=question_mark_count):\n",
    "        if replacement.count('#') + data.count('#') != sum(values):\n",
    "            continue\n",
    "        \n",
    "        new_item = data\n",
    "        \n",
    "        for r in replacement:\n",
    "            new_item = new_item.replace('?', r, 1)\n",
    "            \n",
    "        new_item = [item.count('#') for item in new_item.split('.') if item]\n",
    "        \n",
    "        if new_item == values:\n",
    "            result += 1\n",
    "            \n",
    "    return result\n",
    "\n",
    "result_count = 0\n",
    "\n",
    "for item in data:\n",
    "    (line, value) = item\n",
    "    \n",
    "    value = [int(v) for v in value.split(\",\")]\n",
    "    \n",
    "    result_count += get_possible_values(line, value)\n",
    "            \n",
    "print(result_count)"
   ]
  },
  {
   "cell_type": "code",
   "execution_count": 178,
   "metadata": {},
   "outputs": [
    {
     "name": "stdout",
     "output_type": "stream",
     "text": [
      "7032\n"
     ]
    }
   ],
   "source": [
    "# Part 1\n",
    "with open('input.txt', 'r') as f:\n",
    "    lines = f.readlines()\n",
    "\n",
    "# Split on space\n",
    "data = [line.split() for line in lines]\n",
    "\n",
    "replacements = ['.', '#']\n",
    "\n",
    "def get_possible_values(data, values):\n",
    "    result = 0\n",
    "    \n",
    "    # Get range of amount of ?\n",
    "    question_mark_count = data.count('?')\n",
    "    \n",
    "    # Get all possible values\n",
    "    replacement_options = [item for item in itertools.product(replacements, repeat=question_mark_count) if item.count('#') + data.count('#') == sum(values)]\n",
    "    \n",
    "    for replacement in replacement_options:\n",
    "        new_item = data\n",
    "\n",
    "        for r in replacement:\n",
    "            if re.match(r'^\\.*\\#+\\.+', new_item):\n",
    "                if(values[0] != [item for item in new_item.split('.') if item][0].count('#')):\n",
    "                    break\n",
    "            \n",
    "            new_item = new_item.replace('?', r, 1)\n",
    "            \n",
    "        new_item = [item.count('#') for item in new_item.split('.') if item]\n",
    "        \n",
    "        if new_item == values:\n",
    "            result += 1\n",
    "            \n",
    "    return result\n",
    "\n",
    "result_count = 0\n",
    "\n",
    "for item in data:\n",
    "    (line, value) = item\n",
    "    \n",
    "    value = [int(v) for v in value.split(\",\")]\n",
    "    \n",
    "    result_count += get_possible_values(line, value)\n",
    "            \n",
    "print(result_count)"
   ]
  },
  {
   "cell_type": "code",
   "execution_count": 179,
   "metadata": {},
   "outputs": [
    {
     "ename": "KeyboardInterrupt",
     "evalue": "",
     "output_type": "error",
     "traceback": [
      "\u001b[0;31m---------------------------------------------------------------------------\u001b[0m",
      "\u001b[0;31mKeyboardInterrupt\u001b[0m                         Traceback (most recent call last)",
      "Cell \u001b[0;32mIn[179], line 49\u001b[0m\n\u001b[1;32m     46\u001b[0m \u001b[38;5;28;01mfor\u001b[39;00m item \u001b[38;5;129;01min\u001b[39;00m data:\n\u001b[1;32m     47\u001b[0m     (line, value) \u001b[38;5;241m=\u001b[39m item\n\u001b[0;32m---> 49\u001b[0m     result_count \u001b[38;5;241m+\u001b[39m\u001b[38;5;241m=\u001b[39m \u001b[43mget_possible_values\u001b[49m\u001b[43m(\u001b[49m\u001b[43mline\u001b[49m\u001b[43m,\u001b[49m\u001b[43m \u001b[49m\u001b[43mvalue\u001b[49m\u001b[43m)\u001b[49m\n\u001b[1;32m     51\u001b[0m \u001b[38;5;28mprint\u001b[39m(result_count)\n",
      "Cell \u001b[0;32mIn[179], line 25\u001b[0m, in \u001b[0;36mget_possible_values\u001b[0;34m(data, values)\u001b[0m\n\u001b[1;32m     22\u001b[0m question_mark_count \u001b[38;5;241m=\u001b[39m data\u001b[38;5;241m.\u001b[39mcount(\u001b[38;5;124m'\u001b[39m\u001b[38;5;124m?\u001b[39m\u001b[38;5;124m'\u001b[39m)\n\u001b[1;32m     24\u001b[0m \u001b[38;5;66;03m# Get all possible values\u001b[39;00m\n\u001b[0;32m---> 25\u001b[0m replacement_options \u001b[38;5;241m=\u001b[39m [item \u001b[38;5;28;01mfor\u001b[39;00m item \u001b[38;5;129;01min\u001b[39;00m itertools\u001b[38;5;241m.\u001b[39mproduct(replacements, repeat\u001b[38;5;241m=\u001b[39mquestion_mark_count) \u001b[38;5;28;01mif\u001b[39;00m item\u001b[38;5;241m.\u001b[39mcount(\u001b[38;5;124m'\u001b[39m\u001b[38;5;124m#\u001b[39m\u001b[38;5;124m'\u001b[39m) \u001b[38;5;241m+\u001b[39m data\u001b[38;5;241m.\u001b[39mcount(\u001b[38;5;124m'\u001b[39m\u001b[38;5;124m#\u001b[39m\u001b[38;5;124m'\u001b[39m) \u001b[38;5;241m==\u001b[39m \u001b[38;5;28msum\u001b[39m(values)]\n\u001b[1;32m     27\u001b[0m \u001b[38;5;28;01mfor\u001b[39;00m replacement \u001b[38;5;129;01min\u001b[39;00m replacement_options:\n\u001b[1;32m     28\u001b[0m     new_item \u001b[38;5;241m=\u001b[39m data\n",
      "Cell \u001b[0;32mIn[179], line 25\u001b[0m, in \u001b[0;36m<listcomp>\u001b[0;34m(.0)\u001b[0m\n\u001b[1;32m     22\u001b[0m question_mark_count \u001b[38;5;241m=\u001b[39m data\u001b[38;5;241m.\u001b[39mcount(\u001b[38;5;124m'\u001b[39m\u001b[38;5;124m?\u001b[39m\u001b[38;5;124m'\u001b[39m)\n\u001b[1;32m     24\u001b[0m \u001b[38;5;66;03m# Get all possible values\u001b[39;00m\n\u001b[0;32m---> 25\u001b[0m replacement_options \u001b[38;5;241m=\u001b[39m [item \u001b[38;5;28;01mfor\u001b[39;00m item \u001b[38;5;129;01min\u001b[39;00m itertools\u001b[38;5;241m.\u001b[39mproduct(replacements, repeat\u001b[38;5;241m=\u001b[39mquestion_mark_count) \u001b[38;5;28;01mif\u001b[39;00m \u001b[43mitem\u001b[49m\u001b[38;5;241;43m.\u001b[39;49m\u001b[43mcount\u001b[49m\u001b[43m(\u001b[49m\u001b[38;5;124;43m'\u001b[39;49m\u001b[38;5;124;43m#\u001b[39;49m\u001b[38;5;124;43m'\u001b[39;49m\u001b[43m)\u001b[49m \u001b[38;5;241m+\u001b[39m data\u001b[38;5;241m.\u001b[39mcount(\u001b[38;5;124m'\u001b[39m\u001b[38;5;124m#\u001b[39m\u001b[38;5;124m'\u001b[39m) \u001b[38;5;241m==\u001b[39m \u001b[38;5;28msum\u001b[39m(values)]\n\u001b[1;32m     27\u001b[0m \u001b[38;5;28;01mfor\u001b[39;00m replacement \u001b[38;5;129;01min\u001b[39;00m replacement_options:\n\u001b[1;32m     28\u001b[0m     new_item \u001b[38;5;241m=\u001b[39m data\n",
      "\u001b[0;31mKeyboardInterrupt\u001b[0m: "
     ]
    }
   ],
   "source": [
    "# Part 2\n",
    "# first testing the start script\n",
    "with open('input.txt', 'r') as f:\n",
    "    lines = f.readlines()\n",
    "\n",
    "# Split on space\n",
    "data = [\n",
    "    (\n",
    "        lambda line: (\n",
    "            line[0] * 5, \n",
    "            [int(item) for item in (line[1].split(',') * 5)]\n",
    "        )\n",
    "    )(line.split()) for line in lines\n",
    "]\n",
    "\n",
    "replacements = ['.', '#']\n",
    "\n",
    "def get_possible_values(data, values):\n",
    "    result = 0\n",
    "    \n",
    "    # Get range of amount of ?\n",
    "    question_mark_count = data.count('?')\n",
    "    \n",
    "    # Get all possible values\n",
    "    replacement_options = [item for item in itertools.product(replacements, repeat=question_mark_count) if item.count('#') + data.count('#') == sum(values)]\n",
    "    \n",
    "    for replacement in replacement_options:\n",
    "        new_item = data\n",
    "        \n",
    "        for r in replacement:\n",
    "            new_item = new_item.replace('?', r, 1)\n",
    "            \n",
    "        new_item = [item.count('#') for item in new_item.split('.') if item]\n",
    "        \n",
    "        if new_item == values:\n",
    "            result += 1\n",
    "            \n",
    "    return result\n",
    "\n",
    "result_count = 0\n",
    "\n",
    "for item in data:\n",
    "    (line, value) = item\n",
    "    \n",
    "    result_count += get_possible_values(line, value)\n",
    "            \n",
    "print(result_count)"
   ]
  }
 ],
 "metadata": {
  "kernelspec": {
   "display_name": "Python 3",
   "language": "python",
   "name": "python3"
  },
  "language_info": {
   "codemirror_mode": {
    "name": "ipython",
    "version": 3
   },
   "file_extension": ".py",
   "mimetype": "text/x-python",
   "name": "python",
   "nbconvert_exporter": "python",
   "pygments_lexer": "ipython3",
   "version": "3.10.12"
  }
 },
 "nbformat": 4,
 "nbformat_minor": 2
}
