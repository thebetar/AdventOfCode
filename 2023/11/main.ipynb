{
 "cells": [
  {
   "cell_type": "code",
   "execution_count": 91,
   "metadata": {},
   "outputs": [],
   "source": [
    "import numpy as np\n",
    "\n",
    "galaxies = []\n",
    "\n",
    "with open('input.txt', 'r') as f:\n",
    "    lines = f.readlines()\n",
    "    \n",
    "    a = np.zeros((len(lines), len(lines[0])))\n",
    "    \n",
    "    for i in range(len(lines)):\n",
    "        for j in range(len(lines[0])):\n",
    "            if i >= 140 or j >= 140:\n",
    "                continue\n",
    "            \n",
    "            char = lines[i][j]\n",
    "            \n",
    "            \n",
    "            if char == '#':\n",
    "                galaxies.append((i, j))\n",
    "                \n",
    "            a[i][j] = 0 if lines[i][j] == '.' else 1\n",
    "\n",
    "mat = np.mat(a);"
   ]
  },
  {
   "cell_type": "code",
   "execution_count": 92,
   "metadata": {},
   "outputs": [
    {
     "name": "stdout",
     "output_type": "stream",
     "text": [
      "[39, 43, 53, 56, 64, 68, 87, 122]\n",
      "[60, 66, 77, 93, 102, 140]\n"
     ]
    }
   ],
   "source": [
    "empty_row_indexes = []\n",
    "empty_column_indexes = []\n",
    "\n",
    "for i in range(mat.shape[0]):\n",
    "    if np.sum(mat[i]) == 0:\n",
    "        empty_row_indexes.append(i)\n",
    "        \n",
    "for i in range(mat.shape[1]):\n",
    "    if np.sum(mat[:, i]) == 0:\n",
    "        empty_column_indexes.append(i)\n",
    "        \n",
    "print(empty_row_indexes)\n",
    "print(empty_column_indexes)"
   ]
  },
  {
   "cell_type": "code",
   "execution_count": 93,
   "metadata": {},
   "outputs": [],
   "source": [
    "unique_galaxy_pairs = []\n",
    "\n",
    "for i, galaxy in enumerate(galaxies):\n",
    "    starting_index = i + 1\n",
    "    for galaxy2 in galaxies[starting_index:]:\n",
    "        unique_galaxy_pairs.append((galaxy, galaxy2))"
   ]
  },
  {
   "cell_type": "code",
   "execution_count": 94,
   "metadata": {},
   "outputs": [
    {
     "name": "stdout",
     "output_type": "stream",
     "text": [
      "9403026\n"
     ]
    }
   ],
   "source": [
    "total_sum = 0\n",
    "\n",
    "for unique_galaxy_pair in unique_galaxy_pairs:\n",
    "    uniq_glx_pair1 = unique_galaxy_pair[0]\n",
    "    uniq_glx_pair2 = unique_galaxy_pair[1]\n",
    "    \n",
    "    horizontal_distance = abs(uniq_glx_pair1[0] - uniq_glx_pair2[0])\n",
    "    vertical_distance = abs(uniq_glx_pair1[1] - uniq_glx_pair2[1])\n",
    "    \n",
    "    for i in range(min(uniq_glx_pair1[0], uniq_glx_pair2[0]), max(uniq_glx_pair1[0], uniq_glx_pair2[0])):\n",
    "        if i in empty_row_indexes:\n",
    "            horizontal_distance += 1\n",
    "            \n",
    "    for i in range(min(uniq_glx_pair1[1], uniq_glx_pair2[1]), max(uniq_glx_pair1[1], uniq_glx_pair2[1])):\n",
    "        if i in empty_column_indexes:\n",
    "            vertical_distance += 1\n",
    "    \n",
    "    total_sum += horizontal_distance + vertical_distance\n",
    "\n",
    "print(f\"Part 1: {total_sum}\")"
   ]
  },
  {
   "cell_type": "code",
   "execution_count": 96,
   "metadata": {},
   "outputs": [
    {
     "name": "stdout",
     "output_type": "stream",
     "text": [
      "Part 2: 543018317006\n"
     ]
    }
   ],
   "source": [
    "total_sum = 0\n",
    "\n",
    "EMPTY_SPACE_MULTIPLIER = 1_000_000\n",
    "\n",
    "for unique_galaxy_pair in unique_galaxy_pairs:\n",
    "    uniq_glx_pair1 = unique_galaxy_pair[0]\n",
    "    uniq_glx_pair2 = unique_galaxy_pair[1]\n",
    "    \n",
    "    horizontal_distance = abs(uniq_glx_pair1[0] - uniq_glx_pair2[0])\n",
    "    vertical_distance = abs(uniq_glx_pair1[1] - uniq_glx_pair2[1])\n",
    "    \n",
    "    for i in range(min(uniq_glx_pair1[0], uniq_glx_pair2[0]), max(uniq_glx_pair1[0], uniq_glx_pair2[0])):\n",
    "        if i in empty_row_indexes:\n",
    "            horizontal_distance += EMPTY_SPACE_MULTIPLIER - 1\n",
    "            \n",
    "    for i in range(min(uniq_glx_pair1[1], uniq_glx_pair2[1]), max(uniq_glx_pair1[1], uniq_glx_pair2[1])):\n",
    "        if i in empty_column_indexes:\n",
    "            vertical_distance += EMPTY_SPACE_MULTIPLIER - 1\n",
    "    \n",
    "    total_sum += horizontal_distance + vertical_distance\n",
    "\n",
    "print(f\"Part 2: {total_sum}\")"
   ]
  }
 ],
 "metadata": {
  "kernelspec": {
   "display_name": "Python 3",
   "language": "python",
   "name": "python3"
  },
  "language_info": {
   "codemirror_mode": {
    "name": "ipython",
    "version": 3
   },
   "file_extension": ".py",
   "mimetype": "text/x-python",
   "name": "python",
   "nbconvert_exporter": "python",
   "pygments_lexer": "ipython3",
   "version": "3.10.12"
  }
 },
 "nbformat": 4,
 "nbformat_minor": 2
}
