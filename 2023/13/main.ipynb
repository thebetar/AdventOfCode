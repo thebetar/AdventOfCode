{
 "cells": [
  {
   "cell_type": "code",
   "execution_count": 21,
   "metadata": {},
   "outputs": [],
   "source": [
    "with open('input.txt', 'r') as f:\n",
    "    lines = f.readlines()\n",
    "\n",
    "    lines = \"\".join(lines)\n",
    "\n",
    "    input_data = [grid for grid in lines.split('\\n\\n')]\n",
    "\n",
    "    def parse_grid(grid):\n",
    "        grid = grid.split('\\n')\n",
    "        grid = [list(row) for row in grid]\n",
    "        return grid\n",
    "\n",
    "    input_data = [parse_grid(grid) for grid in input_data]"
   ]
  },
  {
   "cell_type": "code",
   "execution_count": 52,
   "metadata": {},
   "outputs": [
    {
     "name": "stdout",
     "output_type": "stream",
     "text": [
      "37975\n"
     ]
    }
   ],
   "source": [
    "result = 0\n",
    "\n",
    "for grid_idx, grid in enumerate(input_data):\n",
    "    grid_width = len(grid[0])\n",
    "    grid_height = len(grid)\n",
    "    mirror_found = False\n",
    "\n",
    "    # Horizontal reflection: check symmetric rows.\n",
    "    for i in range(grid_height - 1):\n",
    "        max_possible = min(i + 1, grid_height - i - 1)\n",
    "        mirror_found = True\n",
    "\n",
    "        for j in range(max_possible):\n",
    "            if grid[i - j] != grid[i + 1 + j]:\n",
    "                mirror_found = False\n",
    "                break\n",
    "\n",
    "        if mirror_found:\n",
    "            result += (i + 1) * 100\n",
    "            break\n",
    "\n",
    "    if mirror_found:\n",
    "        continue\n",
    "\n",
    "    # Vertical reflection: check symmetric columns around the split.\n",
    "    for i in range(grid_width - 1):\n",
    "        max_possible = min(i + 1, grid_width - i - 1)\n",
    "        mirror_found = True\n",
    "\n",
    "        for j in range(max_possible):\n",
    "            for row in grid:\n",
    "                if row[i - j] != row[i + 1 + j]:\n",
    "                    mirror_found = False\n",
    "                    break\n",
    "\n",
    "        if mirror_found:\n",
    "            result += (i + 1)\n",
    "            mirror_found = True\n",
    "            break\n",
    "\n",
    "    \n",
    "\n",
    "print(result)"
   ]
  },
  {
   "cell_type": "code",
   "execution_count": null,
   "metadata": {},
   "outputs": [
    {
     "name": "stdout",
     "output_type": "stream",
     "text": [
      "32497\n"
     ]
    }
   ],
   "source": [
    "result = 0\n",
    "\n",
    "for grid_idx, grid in enumerate(input_data):\n",
    "    grid_width = len(grid[0])\n",
    "    grid_height = len(grid)\n",
    "    mirror_found = False\n",
    "\n",
    "    # Horizontal reflection: check symmetric rows.\n",
    "    ## Iterate over every row\n",
    "    for i in range(grid_height - 1):\n",
    "        max_possible = min(i + 1, grid_height - i - 1)\n",
    "        invalid_values = 0\n",
    "\n",
    "        ## Iterate over every column\n",
    "        for j in range(max_possible):\n",
    "            ## Iterate over every element in the row\n",
    "            for k in range(len(grid[i - j])):\n",
    "                if grid[i - j][k] != grid[i + 1 + j][k]:\n",
    "                    invalid_values += 1\n",
    "\n",
    "        # If only one mismatch, smudge found\n",
    "        if invalid_values == 1:\n",
    "            result += (i + 1) * 100\n",
    "            break\n",
    "\n",
    "    if mirror_found:\n",
    "        continue\n",
    "\n",
    "    # Vertical reflection: check symmetric columns around the split.\n",
    "    for i in range(grid_width - 1):\n",
    "        max_possible = min(i + 1, grid_width - i - 1)\n",
    "        invalid_values = 0\n",
    "\n",
    "        ## Iterate over every row\n",
    "        for j in range(max_possible):\n",
    "            ## Iterate over every column\n",
    "            for row in grid:\n",
    "                if row[i - j] != row[i + 1 + j]:\n",
    "                    invalid_values += 1\n",
    "\n",
    "        # If only one mismatch, smudge found\n",
    "        if invalid_values == 1:\n",
    "            result += (i + 1)\n",
    "            mirror_found = True\n",
    "            break\n",
    "\n",
    "\n",
    "print(result)"
   ]
  }
 ],
 "metadata": {
  "kernelspec": {
   "display_name": "Python 3",
   "language": "python",
   "name": "python3"
  },
  "language_info": {
   "codemirror_mode": {
    "name": "ipython",
    "version": 3
   },
   "file_extension": ".py",
   "mimetype": "text/x-python",
   "name": "python",
   "nbconvert_exporter": "python",
   "pygments_lexer": "ipython3",
   "version": "3.12.3"
  }
 },
 "nbformat": 4,
 "nbformat_minor": 2
}
