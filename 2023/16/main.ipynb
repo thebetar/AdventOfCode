{
 "cells": [
  {
   "cell_type": "code",
   "execution_count": 1,
   "metadata": {},
   "outputs": [],
   "source": [
    "value_map = {\n",
    "    '.': 0,\n",
    "    '|': 1,\n",
    "    '-': 2,\n",
    "    '\\\\': 3,\n",
    "    '/': 4,\n",
    "}\n",
    "\n",
    "def parse_input(input_str):\n",
    "    lines = input_str.strip().split('\\n')\n",
    "\n",
    "    data = [[value_map[c] for c in line] for line in lines]\n",
    "\n",
    "    return data\n",
    "\n",
    "def walk_path(data, start_path = (0, 0, (1, 0))):\n",
    "    history = []\n",
    "\n",
    "    for i in range(len(data)):\n",
    "        history.append([0] * len(data[0]))\n",
    "\n",
    "        for j in range(len(data[0])):\n",
    "            history[i][j] = 0\n",
    "\n",
    "    history_moves = []\n",
    "    paths = [start_path]\n",
    "\n",
    "    def go_distance(x, y, dir):\n",
    "        cur_x = x\n",
    "        cur_y = y\n",
    "\n",
    "        if cur_x < 0 or cur_x >= len(data[0]) or cur_y < 0 or cur_y >= len(data):\n",
    "            return\n",
    "\n",
    "        dir_x, dir_y = dir\n",
    "\n",
    "        for history_move in history_moves:\n",
    "            if history_move[0] == cur_x and history_move[1] == cur_y and history_move[2] == dir:\n",
    "                return\n",
    "            \n",
    "        history_moves.append((cur_x, cur_y, dir))\n",
    "\n",
    "        while True:\n",
    "            if cur_x < 0 or cur_x >= len(data[0]) or cur_y < 0 or cur_y >= len(data):\n",
    "                break\n",
    "\n",
    "            history[cur_y][cur_x] = 1\n",
    "\n",
    "            if data[cur_y][cur_x] == 1:\n",
    "                if dir == (1, 0) or dir == (-1, 0):\n",
    "                    # Mirror\n",
    "                    paths.append((cur_x, cur_y + 1, (0, 1)))\n",
    "                    paths.append((cur_x, cur_y - 1, (0, -1)))\n",
    "                    break\n",
    "            elif data[cur_y][cur_x] == 2:\n",
    "                if dir == (0, 1) or dir == (0, -1):\n",
    "                    # Mirror\n",
    "                    paths.append((cur_x - 1, cur_y, (-1, 0)))\n",
    "                    paths.append((cur_x + 1, cur_y, (1, 0)))\n",
    "                    break\n",
    "            elif data[cur_y][cur_x] == 3:\n",
    "                if dir == (1, 0):\n",
    "                    paths.append((cur_x, cur_y + 1, (0, 1)))\n",
    "                elif dir == (-1, 0):\n",
    "                    paths.append((cur_x, cur_y - 1, (0, -1)))\n",
    "                elif dir == (0, 1):\n",
    "                    paths.append((cur_x + 1, cur_y, (1, 0)))\n",
    "                elif dir == (0, -1):\n",
    "                    paths.append((cur_x - 1, cur_y, (-1, 0)))\n",
    "                break\n",
    "            elif data[cur_y][cur_x] == 4:\n",
    "                if dir == (1, 0):\n",
    "                    paths.append((cur_x, cur_y - 1, (0, -1)))\n",
    "                elif dir == (-1, 0):\n",
    "                    paths.append((cur_x, cur_y + 1, (0, 1)))\n",
    "                elif dir == (0, 1):\n",
    "                    paths.append((cur_x - 1, cur_y, (-1, 0)))\n",
    "                elif dir == (0, -1):\n",
    "                    paths.append((cur_x + 1, cur_y, (1, 0)))\n",
    "                break\n",
    "\n",
    "            cur_x += dir_x\n",
    "            cur_y += dir_y\n",
    "\n",
    "    while len(paths) > 0:\n",
    "        path = paths.pop(0)\n",
    "\n",
    "        go_distance(path[0], path[1], path[2])\n",
    "\n",
    "    # Sum all 1 values of history\n",
    "    return sum([sum(row) for row in history])"
   ]
  },
  {
   "cell_type": "code",
   "execution_count": 2,
   "metadata": {},
   "outputs": [
    {
     "name": "stdout",
     "output_type": "stream",
     "text": [
      "46\n"
     ]
    }
   ],
   "source": [
    "START_INPUT = r'''.|...\\....\n",
    "|.-.\\.....\n",
    ".....|-...\n",
    "........|.\n",
    "..........\n",
    ".........\\\n",
    "..../.\\\\..\n",
    ".-.-/..|..\n",
    ".|....-|.\\\n",
    "..//.|....'''\n",
    "\n",
    "data = parse_input(START_INPUT)\n",
    "print(walk_path(data))"
   ]
  },
  {
   "cell_type": "code",
   "execution_count": 3,
   "metadata": {},
   "outputs": [
    {
     "name": "stdout",
     "output_type": "stream",
     "text": [
      "7543\n"
     ]
    }
   ],
   "source": [
    "# Part 1\n",
    "with open('input.txt', 'r') as f:\n",
    "    data = parse_input(f.read())\n",
    "    print(walk_path(data))"
   ]
  },
  {
   "cell_type": "code",
   "execution_count": 4,
   "metadata": {},
   "outputs": [
    {
     "name": "stdout",
     "output_type": "stream",
     "text": [
      "8231\n"
     ]
    }
   ],
   "source": [
    "# Part 2\n",
    "with open('input.txt', 'r') as f:\n",
    "    data = parse_input(f.read())\n",
    "    result = 0\n",
    "\n",
    "    # Check for all vertical borders\n",
    "    for i in range(len(data[0])):\n",
    "        # Check top border\n",
    "        if data[0][i] == 0:\n",
    "            result = max(result, walk_path(data, (i, 0, (0, 1))))\n",
    "\n",
    "        # Check bottom border\n",
    "        if data[-1][i] == 0:\n",
    "            result = max(result, walk_path(data, (i, len(data) - 1, (0, -1))))\n",
    "    \n",
    "    # Check for all horizontal borders\n",
    "    for i in range(len(data)):\n",
    "        # Check left border\n",
    "        if data[i][0] == 0:\n",
    "            result = max(result, walk_path(data, (0, i, (1, 0))))\n",
    "\n",
    "        # Check right border\n",
    "        if data[i][-1] == 0:\n",
    "            result = max(result, walk_path(data, (len(data[0]) - 1, i, (-1, 0))))\n",
    "\n",
    "    print(result)"
   ]
  }
 ],
 "metadata": {
  "kernelspec": {
   "display_name": "Python 3",
   "language": "python",
   "name": "python3"
  },
  "language_info": {
   "codemirror_mode": {
    "name": "ipython",
    "version": 3
   },
   "file_extension": ".py",
   "mimetype": "text/x-python",
   "name": "python",
   "nbconvert_exporter": "python",
   "pygments_lexer": "ipython3",
   "version": "3.12.3"
  }
 },
 "nbformat": 4,
 "nbformat_minor": 2
}
